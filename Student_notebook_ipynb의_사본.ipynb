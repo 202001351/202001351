{
  "nbformat": 4,
  "nbformat_minor": 5,
  "metadata": {
    "kernelspec": {
      "display_name": "Python 3",
      "language": "python",
      "name": "python3"
    },
    "language_info": {
      "codemirror_mode": {
        "name": "ipython",
        "version": 3
      },
      "file_extension": ".py",
      "mimetype": "text/x-python",
      "name": "python",
      "nbconvert_exporter": "python",
      "pygments_lexer": "ipython3",
      "version": "3.7.11"
    },
    "colab": {
      "name": "Student notebook.ipynb의 사본",
      "provenance": [],
      "include_colab_link": true
    }
  },
  "cells": [
    {
      "cell_type": "markdown",
      "metadata": {
        "id": "view-in-github",
        "colab_type": "text"
      },
      "source": [
        "<a href=\"https://colab.research.google.com/github/202001351/202001351/blob/main/Student_notebook_ipynb%EC%9D%98_%EC%82%AC%EB%B3%B8.ipynb\" target=\"_parent\"><img src=\"https://colab.research.google.com/assets/colab-badge.svg\" alt=\"Open In Colab\"/></a>"
      ]
    },
    {
      "cell_type": "markdown",
      "metadata": {
        "id": "a0fb4d32-1c6a-41f6-bcd5-5e32aea70fdf"
      },
      "source": [
        "# Student Notebook\n",
        "#### This notebook is for you to take notes and save directly to your Google drive and GITHUB.\n",
        "\n",
        "Please upload your changes so you can review it later."
      ],
      "id": "a0fb4d32-1c6a-41f6-bcd5-5e32aea70fdf"
    },
    {
      "cell_type": "markdown",
      "metadata": {
        "id": "9a8d1388-7e11-4262-8e94-581493c554f4"
      },
      "source": [
        "# Introduction to Python Basics I"
      ],
      "id": "9a8d1388-7e11-4262-8e94-581493c554f4"
    },
    {
      "cell_type": "code",
      "metadata": {
        "id": "61d77fcf-3df2-4fee-8da0-d8c0c39f1992",
        "colab": {
          "base_uri": "https://localhost:8080/"
        },
        "outputId": "30cb77aa-c522-4e08-d48d-0213f9917d3a"
      },
      "source": [
        "1+1\n",
        "2\n"
      ],
      "id": "61d77fcf-3df2-4fee-8da0-d8c0c39f1992",
      "execution_count": null,
      "outputs": [
        {
          "output_type": "execute_result",
          "data": {
            "text/plain": [
              "2"
            ]
          },
          "metadata": {},
          "execution_count": 1
        }
      ]
    },
    {
      "cell_type": "code",
      "metadata": {
        "id": "981ce62a-e33e-4a11-a369-b1f63f783208",
        "colab": {
          "base_uri": "https://localhost:8080/"
        },
        "outputId": "76305402-569c-44b1-b6ba-d808b7513e69"
      },
      "source": [
        "1*3"
      ],
      "id": "981ce62a-e33e-4a11-a369-b1f63f783208",
      "execution_count": null,
      "outputs": [
        {
          "output_type": "execute_result",
          "data": {
            "text/plain": [
              "3"
            ]
          },
          "metadata": {},
          "execution_count": 2
        }
      ]
    },
    {
      "cell_type": "code",
      "metadata": {
        "id": "8a4eefe9-ec12-4e51-9227-0a769594ccdd",
        "colab": {
          "base_uri": "https://localhost:8080/"
        },
        "outputId": "45395bcc-3cee-4ac1-f5c2-42e51943d8d6"
      },
      "source": [
        "1/2"
      ],
      "id": "8a4eefe9-ec12-4e51-9227-0a769594ccdd",
      "execution_count": null,
      "outputs": [
        {
          "output_type": "execute_result",
          "data": {
            "text/plain": [
              "0.5"
            ]
          },
          "metadata": {},
          "execution_count": 3
        }
      ]
    },
    {
      "cell_type": "code",
      "metadata": {
        "id": "b1cbe5c6-102a-4c6a-b09a-b53a9c47b820",
        "colab": {
          "base_uri": "https://localhost:8080/"
        },
        "outputId": "a1b9575c-78e1-449a-c492-60f0cb5e50b9"
      },
      "source": [
        "2**4\n"
      ],
      "id": "b1cbe5c6-102a-4c6a-b09a-b53a9c47b820",
      "execution_count": null,
      "outputs": [
        {
          "output_type": "execute_result",
          "data": {
            "text/plain": [
              "16"
            ]
          },
          "metadata": {},
          "execution_count": 4
        }
      ]
    },
    {
      "cell_type": "code",
      "metadata": {
        "id": "3832eb93-094f-4de4-9726-f633e246cac5",
        "colab": {
          "base_uri": "https://localhost:8080/"
        },
        "outputId": "45580bc6-2309-49d1-e6f1-d8cf51188eff"
      },
      "source": [
        "4%2"
      ],
      "id": "3832eb93-094f-4de4-9726-f633e246cac5",
      "execution_count": null,
      "outputs": [
        {
          "output_type": "execute_result",
          "data": {
            "text/plain": [
              "0"
            ]
          },
          "metadata": {},
          "execution_count": 5
        }
      ]
    },
    {
      "cell_type": "code",
      "metadata": {
        "id": "520a6910-fec0-4c19-929d-23bbe0290946",
        "colab": {
          "base_uri": "https://localhost:8080/"
        },
        "outputId": "924e3c3a-dc64-4fdf-e1ee-f49bec321306"
      },
      "source": [
        "4%3"
      ],
      "id": "520a6910-fec0-4c19-929d-23bbe0290946",
      "execution_count": null,
      "outputs": [
        {
          "output_type": "execute_result",
          "data": {
            "text/plain": [
              "1"
            ]
          },
          "metadata": {},
          "execution_count": 6
        }
      ]
    },
    {
      "cell_type": "code",
      "metadata": {
        "id": "bfd44c86-5e36-4f71-88ef-496589098171",
        "colab": {
          "base_uri": "https://localhost:8080/"
        },
        "outputId": "a9ddb129-7cd7-48ed-9433-89f328942092"
      },
      "source": [
        "(2+3)*(5+5)"
      ],
      "id": "bfd44c86-5e36-4f71-88ef-496589098171",
      "execution_count": null,
      "outputs": [
        {
          "output_type": "execute_result",
          "data": {
            "text/plain": [
              "50"
            ]
          },
          "metadata": {},
          "execution_count": 7
        }
      ]
    },
    {
      "cell_type": "code",
      "metadata": {
        "id": "f8d4c821-eca0-471d-91d8-ccb710d2166b",
        "colab": {
          "base_uri": "https://localhost:8080/"
        },
        "outputId": "d076807d-83fa-427e-eecc-cfd10bda475b"
      },
      "source": [
        "type(4)"
      ],
      "id": "f8d4c821-eca0-471d-91d8-ccb710d2166b",
      "execution_count": null,
      "outputs": [
        {
          "output_type": "execute_result",
          "data": {
            "text/plain": [
              "int"
            ]
          },
          "metadata": {},
          "execution_count": 8
        }
      ]
    },
    {
      "cell_type": "code",
      "metadata": {
        "id": "89c6149b-6276-48ab-a205-b0aed26c232c",
        "colab": {
          "base_uri": "https://localhost:8080/"
        },
        "outputId": "e2dbe696-c82d-4b13-cef8-c4340892d9af"
      },
      "source": [
        "type(5.63)"
      ],
      "id": "89c6149b-6276-48ab-a205-b0aed26c232c",
      "execution_count": null,
      "outputs": [
        {
          "output_type": "execute_result",
          "data": {
            "text/plain": [
              "float"
            ]
          },
          "metadata": {},
          "execution_count": 9
        }
      ]
    },
    {
      "cell_type": "code",
      "metadata": {
        "id": "07686502-7571-481a-8b20-bec590084b7b",
        "colab": {
          "base_uri": "https://localhost:8080/"
        },
        "outputId": "128ac992-4b45-42f7-d69d-6b27d7bfbe23"
      },
      "source": [
        "type(float(5))\n"
      ],
      "id": "07686502-7571-481a-8b20-bec590084b7b",
      "execution_count": null,
      "outputs": [
        {
          "output_type": "execute_result",
          "data": {
            "text/plain": [
              "float"
            ]
          },
          "metadata": {},
          "execution_count": 10
        }
      ]
    },
    {
      "cell_type": "code",
      "metadata": {
        "id": "8ca30ace-cb73-43dc-a3b0-2f27aa362c7c",
        "colab": {
          "base_uri": "https://localhost:8080/",
          "height": 226
        },
        "outputId": "f17363ec-4008-4387-c3fd-5e1aa1921ba1"
      },
      "source": [
        "#cannot start with number orspecial characters\n",
        "name_of_var =2\n",
        "name_of_var_hello\n",
        "\n"
      ],
      "id": "8ca30ace-cb73-43dc-a3b0-2f27aa362c7c",
      "execution_count": null,
      "outputs": [
        {
          "output_type": "error",
          "ename": "NameError",
          "evalue": "ignored",
          "traceback": [
            "\u001b[0;31m---------------------------------------------------------------------------\u001b[0m",
            "\u001b[0;31mNameError\u001b[0m                                 Traceback (most recent call last)",
            "\u001b[0;32m<ipython-input-12-42f8278737ce>\u001b[0m in \u001b[0;36m<module>\u001b[0;34m()\u001b[0m\n\u001b[1;32m      1\u001b[0m \u001b[0;31m#cannot start with number orspecial characters\u001b[0m\u001b[0;34m\u001b[0m\u001b[0;34m\u001b[0m\u001b[0;34m\u001b[0m\u001b[0m\n\u001b[1;32m      2\u001b[0m \u001b[0mname_of_var\u001b[0m \u001b[0;34m=\u001b[0m\u001b[0;36m2\u001b[0m\u001b[0;34m\u001b[0m\u001b[0;34m\u001b[0m\u001b[0m\n\u001b[0;32m----> 3\u001b[0;31m \u001b[0mname_of_var_hello\u001b[0m\u001b[0;34m\u001b[0m\u001b[0;34m\u001b[0m\u001b[0m\n\u001b[0m\u001b[1;32m      4\u001b[0m \u001b[0;34m\u001b[0m\u001b[0m\n",
            "\u001b[0;31mNameError\u001b[0m: name 'name_of_var_hello' is not defined"
          ]
        }
      ]
    },
    {
      "cell_type": "code",
      "metadata": {
        "id": "0f31b763-9d91-456a-bebe-e57ec2065451"
      },
      "source": [
        "x=2\n",
        "y=3\n"
      ],
      "id": "0f31b763-9d91-456a-bebe-e57ec2065451",
      "execution_count": null,
      "outputs": []
    },
    {
      "cell_type": "code",
      "metadata": {
        "id": "7b5cd6d5-5466-49ba-b198-7c8983a237cc"
      },
      "source": [
        "z=x+y"
      ],
      "id": "7b5cd6d5-5466-49ba-b198-7c8983a237cc",
      "execution_count": null,
      "outputs": []
    },
    {
      "cell_type": "code",
      "metadata": {
        "id": "26a6af88-80a4-4bd2-be9b-8d00c3d4a416",
        "colab": {
          "base_uri": "https://localhost:8080/"
        },
        "outputId": "57eeab8f-5de0-431b-b437-5f4210bc0b77"
      },
      "source": [
        "z"
      ],
      "id": "26a6af88-80a4-4bd2-be9b-8d00c3d4a416",
      "execution_count": null,
      "outputs": [
        {
          "output_type": "execute_result",
          "data": {
            "text/plain": [
              "5"
            ]
          },
          "metadata": {},
          "execution_count": 16
        }
      ]
    },
    {
      "cell_type": "code",
      "metadata": {
        "id": "0207740d-fc24-4937-a9ca-f18c2e64aa98",
        "colab": {
          "base_uri": "https://localhost:8080/"
        },
        "outputId": "9a2505e2-7a38-4a31-93bb-ee0614d0f463"
      },
      "source": [
        "id(x)"
      ],
      "id": "0207740d-fc24-4937-a9ca-f18c2e64aa98",
      "execution_count": null,
      "outputs": [
        {
          "output_type": "execute_result",
          "data": {
            "text/plain": [
              "94396501719584"
            ]
          },
          "metadata": {},
          "execution_count": 17
        }
      ]
    },
    {
      "cell_type": "code",
      "metadata": {
        "id": "7492f9ac-99a0-44c7-9289-aae79a7a5ab4",
        "colab": {
          "base_uri": "https://localhost:8080/"
        },
        "outputId": "819a8a7e-6787-4f76-a9e7-e7be1bfe91f5"
      },
      "source": [
        "id(y)"
      ],
      "id": "7492f9ac-99a0-44c7-9289-aae79a7a5ab4",
      "execution_count": null,
      "outputs": [
        {
          "output_type": "execute_result",
          "data": {
            "text/plain": [
              "94396501719616"
            ]
          },
          "metadata": {},
          "execution_count": 18
        }
      ]
    },
    {
      "cell_type": "code",
      "metadata": {
        "id": "511545a3-3e1b-4f89-a4c2-50f5a11d6037"
      },
      "source": [
        "x=y"
      ],
      "id": "511545a3-3e1b-4f89-a4c2-50f5a11d6037",
      "execution_count": null,
      "outputs": []
    },
    {
      "cell_type": "code",
      "metadata": {
        "id": "395f484f-2453-4060-a9c6-484cfd699365",
        "colab": {
          "base_uri": "https://localhost:8080/"
        },
        "outputId": "ddd7488a-f42b-4c24-cc37-ae283d1d92f6"
      },
      "source": [
        "id(x)"
      ],
      "id": "395f484f-2453-4060-a9c6-484cfd699365",
      "execution_count": null,
      "outputs": [
        {
          "output_type": "execute_result",
          "data": {
            "text/plain": [
              "94396501719616"
            ]
          },
          "metadata": {},
          "execution_count": 20
        }
      ]
    },
    {
      "cell_type": "code",
      "metadata": {
        "id": "92eb00c8-432e-46fe-9463-bed79228fd63"
      },
      "source": [
        "del(y)"
      ],
      "id": "92eb00c8-432e-46fe-9463-bed79228fd63",
      "execution_count": null,
      "outputs": []
    },
    {
      "cell_type": "code",
      "metadata": {
        "id": "a61e99c4-476f-4079-95b7-b02e29e13e73",
        "colab": {
          "base_uri": "https://localhost:8080/",
          "height": 172
        },
        "outputId": "5221b646-6110-4db0-bcd5-8d42ca67f714"
      },
      "source": [
        "y"
      ],
      "id": "a61e99c4-476f-4079-95b7-b02e29e13e73",
      "execution_count": null,
      "outputs": [
        {
          "output_type": "error",
          "ename": "NameError",
          "evalue": "ignored",
          "traceback": [
            "\u001b[0;31m---------------------------------------------------------------------------\u001b[0m",
            "\u001b[0;31mNameError\u001b[0m                                 Traceback (most recent call last)",
            "\u001b[0;32m<ipython-input-22-9063a9f0e032>\u001b[0m in \u001b[0;36m<module>\u001b[0;34m()\u001b[0m\n\u001b[0;32m----> 1\u001b[0;31m \u001b[0my\u001b[0m\u001b[0;34m\u001b[0m\u001b[0;34m\u001b[0m\u001b[0m\n\u001b[0m",
            "\u001b[0;31mNameError\u001b[0m: name 'y' is not defined"
          ]
        }
      ]
    },
    {
      "cell_type": "code",
      "metadata": {
        "id": "6b7e050d-71db-45ec-81b6-b4f593b58930",
        "colab": {
          "base_uri": "https://localhost:8080/",
          "height": 35
        },
        "outputId": "d7f01c2c-a1dd-415a-93ea-5a2ef9370892"
      },
      "source": [
        "'single quotes'"
      ],
      "id": "6b7e050d-71db-45ec-81b6-b4f593b58930",
      "execution_count": null,
      "outputs": [
        {
          "output_type": "execute_result",
          "data": {
            "application/vnd.google.colaboratory.intrinsic+json": {
              "type": "string"
            },
            "text/plain": [
              "'single quotes'"
            ]
          },
          "metadata": {},
          "execution_count": 23
        }
      ]
    },
    {
      "cell_type": "code",
      "metadata": {
        "id": "75083780-5bf8-4a21-a96f-be036bd6ed6e",
        "colab": {
          "base_uri": "https://localhost:8080/",
          "height": 35
        },
        "outputId": "d735876f-078e-48ad-9586-643cdde8a570"
      },
      "source": [
        "\"double quotes\""
      ],
      "id": "75083780-5bf8-4a21-a96f-be036bd6ed6e",
      "execution_count": null,
      "outputs": [
        {
          "output_type": "execute_result",
          "data": {
            "application/vnd.google.colaboratory.intrinsic+json": {
              "type": "string"
            },
            "text/plain": [
              "'double quotes'"
            ]
          },
          "metadata": {},
          "execution_count": 24
        }
      ]
    },
    {
      "cell_type": "code",
      "metadata": {
        "id": "7c4c384e-170c-453b-ba73-5b9e1112b30f",
        "colab": {
          "base_uri": "https://localhost:8080/",
          "height": 35
        },
        "outputId": "0aa0b7b6-fe0a-4ff1-fd27-7d23e65cda5c"
      },
      "source": [
        "\"wrap lot's other quotes\""
      ],
      "id": "7c4c384e-170c-453b-ba73-5b9e1112b30f",
      "execution_count": null,
      "outputs": [
        {
          "output_type": "execute_result",
          "data": {
            "application/vnd.google.colaboratory.intrinsic+json": {
              "type": "string"
            },
            "text/plain": [
              "\"wrap lot's other quotes\""
            ]
          },
          "metadata": {},
          "execution_count": 25
        }
      ]
    },
    {
      "cell_type": "code",
      "metadata": {
        "id": "1ed20989-df63-4537-9543-f633510d2cdf",
        "colab": {
          "base_uri": "https://localhost:8080/",
          "height": 136
        },
        "outputId": "72961680-4876-48f2-d648-ed7c704b9db6"
      },
      "source": [
        "my string = \"\"\" Hello, welcome to the world of python\"\"\""
      ],
      "id": "1ed20989-df63-4537-9543-f633510d2cdf",
      "execution_count": null,
      "outputs": [
        {
          "output_type": "error",
          "ename": "SyntaxError",
          "evalue": "ignored",
          "traceback": [
            "\u001b[0;36m  File \u001b[0;32m\"<ipython-input-27-047e0afb03f5>\"\u001b[0;36m, line \u001b[0;32m1\u001b[0m\n\u001b[0;31m    my string = \"\"\" Hello, welcome to the world/ of python\"\"\"\u001b[0m\n\u001b[0m            ^\u001b[0m\n\u001b[0;31mSyntaxError\u001b[0m\u001b[0;31m:\u001b[0m invalid syntax\n"
          ]
        }
      ]
    },
    {
      "cell_type": "code",
      "metadata": {
        "id": "1fefe175-e76f-45c2-9933-f201f6686c78",
        "colab": {
          "base_uri": "https://localhost:8080/",
          "height": 172
        },
        "outputId": "9f2691e4-bec0-4d06-a14c-568715937039"
      },
      "source": [
        "my_string\n"
      ],
      "id": "1fefe175-e76f-45c2-9933-f201f6686c78",
      "execution_count": null,
      "outputs": [
        {
          "output_type": "error",
          "ename": "NameError",
          "evalue": "ignored",
          "traceback": [
            "\u001b[0;31m---------------------------------------------------------------------------\u001b[0m",
            "\u001b[0;31mNameError\u001b[0m                                 Traceback (most recent call last)",
            "\u001b[0;32m<ipython-input-28-a082172b57c8>\u001b[0m in \u001b[0;36m<module>\u001b[0;34m()\u001b[0m\n\u001b[0;32m----> 1\u001b[0;31m \u001b[0mmy_string\u001b[0m\u001b[0;34m\u001b[0m\u001b[0;34m\u001b[0m\u001b[0m\n\u001b[0m",
            "\u001b[0;31mNameError\u001b[0m: name 'my_string' is not defined"
          ]
        }
      ]
    },
    {
      "cell_type": "code",
      "metadata": {
        "id": "9b98cc92-f24a-446d-bda5-fb4407e55451"
      },
      "source": [
        "st= 'programming Language 101'"
      ],
      "id": "9b98cc92-f24a-446d-bda5-fb4407e55451",
      "execution_count": null,
      "outputs": []
    },
    {
      "cell_type": "code",
      "metadata": {
        "id": "e91f3af0-53df-4f87-a9f7-c6f79c2fa1bb",
        "colab": {
          "base_uri": "https://localhost:8080/",
          "height": 35
        },
        "outputId": "5cfe703a-ad52-4a05-b50d-c81a85c84660"
      },
      "source": [
        "st[0]"
      ],
      "id": "e91f3af0-53df-4f87-a9f7-c6f79c2fa1bb",
      "execution_count": null,
      "outputs": [
        {
          "output_type": "execute_result",
          "data": {
            "application/vnd.google.colaboratory.intrinsic+json": {
              "type": "string"
            },
            "text/plain": [
              "'p'"
            ]
          },
          "metadata": {},
          "execution_count": 30
        }
      ]
    },
    {
      "cell_type": "code",
      "metadata": {
        "id": "8fbcdbc0-4902-430f-9d44-451643eb9a6d",
        "colab": {
          "base_uri": "https://localhost:8080/",
          "height": 35
        },
        "outputId": "e70202a2-1797-4c12-e4c5-6d26f2029fed"
      },
      "source": [
        "st[-1]"
      ],
      "id": "8fbcdbc0-4902-430f-9d44-451643eb9a6d",
      "execution_count": null,
      "outputs": [
        {
          "output_type": "execute_result",
          "data": {
            "application/vnd.google.colaboratory.intrinsic+json": {
              "type": "string"
            },
            "text/plain": [
              "'1'"
            ]
          },
          "metadata": {},
          "execution_count": 31
        }
      ]
    },
    {
      "cell_type": "code",
      "metadata": {
        "id": "c20fe24b-93dc-454a-9bb7-aa85e77c6d4d",
        "colab": {
          "base_uri": "https://localhost:8080/",
          "height": 35
        },
        "outputId": "414b39f6-fa04-4ebe-a818-c6a55712ed86"
      },
      "source": [
        "st[ -6:]"
      ],
      "id": "c20fe24b-93dc-454a-9bb7-aa85e77c6d4d",
      "execution_count": null,
      "outputs": [
        {
          "output_type": "execute_result",
          "data": {
            "application/vnd.google.colaboratory.intrinsic+json": {
              "type": "string"
            },
            "text/plain": [
              "'ge 101'"
            ]
          },
          "metadata": {},
          "execution_count": 36
        }
      ]
    },
    {
      "cell_type": "code",
      "metadata": {
        "id": "2ec357e0-2539-41fa-81ac-5378df7575e4",
        "colab": {
          "base_uri": "https://localhost:8080/",
          "height": 35
        },
        "outputId": "d8a84ab7-3685-46eb-d1c8-0fc52366b7e2"
      },
      "source": [
        "st[10:15]"
      ],
      "id": "2ec357e0-2539-41fa-81ac-5378df7575e4",
      "execution_count": null,
      "outputs": [
        {
          "output_type": "execute_result",
          "data": {
            "application/vnd.google.colaboratory.intrinsic+json": {
              "type": "string"
            },
            "text/plain": [
              "'g Lan'"
            ]
          },
          "metadata": {},
          "execution_count": 35
        }
      ]
    },
    {
      "cell_type": "code",
      "metadata": {
        "id": "9357fff5-5beb-4722-878a-fa348954682a",
        "colab": {
          "base_uri": "https://localhost:8080/"
        },
        "outputId": "530ddecc-7a4c-4ca1-f053-271d4e2314a8"
      },
      "source": [
        "len(st)"
      ],
      "id": "9357fff5-5beb-4722-878a-fa348954682a",
      "execution_count": null,
      "outputs": [
        {
          "output_type": "execute_result",
          "data": {
            "text/plain": [
              "24"
            ]
          },
          "metadata": {},
          "execution_count": 37
        }
      ]
    },
    {
      "cell_type": "code",
      "metadata": {
        "id": "wbpGAncpSxPQ",
        "colab": {
          "base_uri": "https://localhost:8080/",
          "height": 35
        },
        "outputId": "ae623a9a-43cb-4e0f-f8c6-2a7a69895da0"
      },
      "source": [
        "st.lower()"
      ],
      "id": "wbpGAncpSxPQ",
      "execution_count": null,
      "outputs": [
        {
          "output_type": "execute_result",
          "data": {
            "application/vnd.google.colaboratory.intrinsic+json": {
              "type": "string"
            },
            "text/plain": [
              "'programming language 101'"
            ]
          },
          "metadata": {},
          "execution_count": 38
        }
      ]
    },
    {
      "cell_type": "code",
      "metadata": {
        "id": "_f7xmFprS4cE",
        "colab": {
          "base_uri": "https://localhost:8080/",
          "height": 35
        },
        "outputId": "b6d3af2e-b57d-4dff-d501-ab302e1706c8"
      },
      "source": [
        "st.upper()"
      ],
      "id": "_f7xmFprS4cE",
      "execution_count": null,
      "outputs": [
        {
          "output_type": "execute_result",
          "data": {
            "application/vnd.google.colaboratory.intrinsic+json": {
              "type": "string"
            },
            "text/plain": [
              "'PROGRAMMING LANGUAGE 101'"
            ]
          },
          "metadata": {},
          "execution_count": 39
        }
      ]
    },
    {
      "cell_type": "code",
      "metadata": {
        "id": "2eVRHVB2S72l",
        "colab": {
          "base_uri": "https://localhost:8080/"
        },
        "outputId": "d11fa999-8767-4117-cced-bed9e8e141c7"
      },
      "source": [
        "st.split()"
      ],
      "id": "2eVRHVB2S72l",
      "execution_count": null,
      "outputs": [
        {
          "output_type": "execute_result",
          "data": {
            "text/plain": [
              "['programming', 'Language', '101']"
            ]
          },
          "metadata": {},
          "execution_count": 40
        }
      ]
    },
    {
      "cell_type": "code",
      "metadata": {
        "id": "TiKOy7j9TIzm",
        "colab": {
          "base_uri": "https://localhost:8080/"
        },
        "outputId": "34bf54bd-f924-4d20-9635-6e422a5fef12"
      },
      "source": [
        "st.split(\"a\")"
      ],
      "id": "TiKOy7j9TIzm",
      "execution_count": null,
      "outputs": [
        {
          "output_type": "execute_result",
          "data": {
            "text/plain": [
              "['progr', 'mming L', 'ngu', 'ge 101']"
            ]
          },
          "metadata": {},
          "execution_count": 41
        }
      ]
    },
    {
      "cell_type": "code",
      "metadata": {
        "id": "zelwqdusTkrp"
      },
      "source": [
        "num=12\n",
        "name= 'Anna'"
      ],
      "id": "zelwqdusTkrp",
      "execution_count": null,
      "outputs": []
    },
    {
      "cell_type": "code",
      "metadata": {
        "id": "Mvik8z2vTqAN",
        "colab": {
          "base_uri": "https://localhost:8080/",
          "height": 172
        },
        "outputId": "4cb1f3cd-3d4a-4d33-c3ed-3720dd0a00f3"
      },
      "source": [
        "print('My favorite number is: {one}, and my name is: {two} ', format(one=num, two=name))"
      ],
      "id": "Mvik8z2vTqAN",
      "execution_count": null,
      "outputs": [
        {
          "output_type": "error",
          "ename": "TypeError",
          "evalue": "ignored",
          "traceback": [
            "\u001b[0;31m---------------------------------------------------------------------------\u001b[0m",
            "\u001b[0;31mTypeError\u001b[0m                                 Traceback (most recent call last)",
            "\u001b[0;32m<ipython-input-46-58edf24f5d71>\u001b[0m in \u001b[0;36m<module>\u001b[0;34m()\u001b[0m\n\u001b[0;32m----> 1\u001b[0;31m \u001b[0mprint\u001b[0m\u001b[0;34m(\u001b[0m\u001b[0;34m'My favorite number is: {one}, and my name is: {two} '\u001b[0m\u001b[0;34m,\u001b[0m \u001b[0mformat\u001b[0m\u001b[0;34m(\u001b[0m\u001b[0mone\u001b[0m\u001b[0;34m=\u001b[0m\u001b[0mnum\u001b[0m\u001b[0;34m,\u001b[0m \u001b[0mtwo\u001b[0m\u001b[0;34m=\u001b[0m\u001b[0mname\u001b[0m\u001b[0;34m)\u001b[0m\u001b[0;34m)\u001b[0m\u001b[0;34m\u001b[0m\u001b[0;34m\u001b[0m\u001b[0m\n\u001b[0m",
            "\u001b[0;31mTypeError\u001b[0m: format() takes no keyword arguments"
          ]
        }
      ]
    }
  ]
}